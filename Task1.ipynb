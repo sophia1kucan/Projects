{
 "cells": [
  {
   "cell_type": "markdown",
   "id": "3f5d6f6d",
   "metadata": {},
   "source": [
    "Task:\n",
    "\n",
    "A step word is formed by taking a given word, adding a letter, and anagramming the result. For example, starting with the word \"APPLE\", you can add an \"A\" and anagram to get \"APPEAL\".\n",
    "\n",
    "Given a dictionary of words and an input word, create a function that returns all valid step words."
   ]
  },
  {
   "cell_type": "markdown",
   "id": "2d182422",
   "metadata": {},
   "source": [
    "Dictionary of words"
   ]
  },
  {
   "cell_type": "code",
   "execution_count": null,
   "id": "0ae972cb",
   "metadata": {},
   "outputs": [
    {
     "name": "stdout",
     "output_type": "stream",
     "text": [
      "You entered: hell\n"
     ]
    }
   ],
   "source": [
    "with open(\"/Users/sk/Downloads/words_alpha.txt\", \"r\") as f:\n",
    "    dictionary = [line.strip() for line in f]\n",
    "\n",
    "word = input('Please enter a word: ')\n",
    "print('You entered:', word)\n",
    "\n"
   ]
  },
  {
   "cell_type": "markdown",
   "id": "1a038d5a",
   "metadata": {},
   "source": [
    "Generate a random letter"
   ]
  },
  {
   "cell_type": "code",
   "execution_count": 36,
   "id": "e096583f",
   "metadata": {},
   "outputs": [
    {
     "name": "stdout",
     "output_type": "stream",
     "text": [
      "5\n"
     ]
    }
   ],
   "source": [
    "import random\n",
    "random_number = random.randrange(1, 26)\n",
    "print(random_number)"
   ]
  },
  {
   "cell_type": "code",
   "execution_count": 26,
   "id": "f54b7823",
   "metadata": {},
   "outputs": [
    {
     "name": "stdout",
     "output_type": "stream",
     "text": [
      "x\n"
     ]
    }
   ],
   "source": [
    "import string\n",
    "\n",
    "num = random_number\n",
    "letter = string.ascii_lowercase[num - 1]  #ascii_lowercase is a string of all lowercase letters, [num -1] makes sure the index starts at 1 not 0\n",
    "print(letter)"
   ]
  },
  {
   "cell_type": "markdown",
   "id": "6474b7f7",
   "metadata": {},
   "source": [
    "Add random letter to inputted word to create a new word"
   ]
  },
  {
   "cell_type": "code",
   "execution_count": 39,
   "id": "3bc679a0",
   "metadata": {},
   "outputs": [
    {
     "name": "stdout",
     "output_type": "stream",
     "text": [
      "hellx\n"
     ]
    }
   ],
   "source": [
    "word_letter = word + letter\n",
    "\n",
    "print(word_letter)"
   ]
  },
  {
   "cell_type": "markdown",
   "id": "1a3f4104",
   "metadata": {},
   "source": [
    "Permute letter in new word"
   ]
  },
  {
   "cell_type": "code",
   "execution_count": 37,
   "id": "e3624a56",
   "metadata": {},
   "outputs": [
    {
     "name": "stdout",
     "output_type": "stream",
     "text": [
      "Rearranged word: eolxhl\n"
     ]
    }
   ],
   "source": [
    "letters = list(word_letter)  #converts the word into a list of characters\n",
    "random.shuffle(letters)  #shuffles the list randomly\n",
    "\n",
    "new_word = ''.join(letters)  #joins the shuffled letters back into a string\n",
    "print('Rearranged word:', new_word)"
   ]
  },
  {
   "cell_type": "markdown",
   "id": "54fa4d9f",
   "metadata": {},
   "source": [
    "Match outputted permutation with a word from the dictionary"
   ]
  },
  {
   "cell_type": "code",
   "execution_count": 38,
   "id": "482b8c9b",
   "metadata": {},
   "outputs": [
    {
     "name": "stdout",
     "output_type": "stream",
     "text": [
      "The word eolxhl cannot be found in the dictionary.\n"
     ]
    }
   ],
   "source": [
    "if new_word in dictionary:\n",
    "    print(f'The word {new_word} can be found in the dictionary.')\n",
    "else:\n",
    "    print(f'The word {new_word} cannot be found in the dictionary.')"
   ]
  }
 ],
 "metadata": {
  "kernelspec": {
   "display_name": "test",
   "language": "python",
   "name": "python3"
  },
  "language_info": {
   "codemirror_mode": {
    "name": "ipython",
    "version": 3
   },
   "file_extension": ".py",
   "mimetype": "text/x-python",
   "name": "python",
   "nbconvert_exporter": "python",
   "pygments_lexer": "ipython3",
   "version": "3.13.7"
  }
 },
 "nbformat": 4,
 "nbformat_minor": 5
}
